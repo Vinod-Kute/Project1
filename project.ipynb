{
 "cells": [
  {
   "cell_type": "markdown",
   "id": "a8f39d1c",
   "metadata": {},
   "source": [
    "# Lok Sabha Election 2019"
   ]
  },
  {
   "cell_type": "markdown",
   "id": "7aa8dc72",
   "metadata": {},
   "source": [
    "This Data set in based 2019 lok sabha Election"
   ]
  },
  {
   "cell_type": "code",
   "execution_count": 19,
   "id": "b1920406",
   "metadata": {},
   "outputs": [],
   "source": [
    "import numpy as np\n",
    "import pandas as pd\n",
    "import matplotlib.pyplot as plt\n",
    "import seaborn as sns\n",
    "\n",
    "import warnings\n",
    "warnings.filterwarnings('ignore')"
   ]
  },
  {
   "cell_type": "code",
   "execution_count": 20,
   "id": "bdf15cbc",
   "metadata": {},
   "outputs": [
    {
     "data": {
      "text/html": [
       "<div>\n",
       "<style scoped>\n",
       "    .dataframe tbody tr th:only-of-type {\n",
       "        vertical-align: middle;\n",
       "    }\n",
       "\n",
       "    .dataframe tbody tr th {\n",
       "        vertical-align: top;\n",
       "    }\n",
       "\n",
       "    .dataframe thead th {\n",
       "        text-align: right;\n",
       "    }\n",
       "</style>\n",
       "<table border=\"1\" class=\"dataframe\">\n",
       "  <thead>\n",
       "    <tr style=\"text-align: right;\">\n",
       "      <th></th>\n",
       "      <th>STATE</th>\n",
       "      <th>CONSTITUENCY</th>\n",
       "      <th>NAME</th>\n",
       "      <th>WINNER</th>\n",
       "      <th>PARTY</th>\n",
       "      <th>SYMBOL</th>\n",
       "      <th>GENDER</th>\n",
       "      <th>CRIMINAL CASES</th>\n",
       "      <th>AGE</th>\n",
       "      <th>CATEGORY</th>\n",
       "      <th>EDUCATION</th>\n",
       "      <th>ASSETS</th>\n",
       "      <th>LIABILITIES</th>\n",
       "      <th>GENERAL VOTES</th>\n",
       "      <th>POSTAL VOTES</th>\n",
       "      <th>TOTAL VOTES</th>\n",
       "      <th>OVER TOTAL ELECTORS IN CONSTITUENCY</th>\n",
       "      <th>OVER TOTAL VOTES POLLED IN CONSTITUENCY</th>\n",
       "      <th>TOTAL ELECTORS</th>\n",
       "    </tr>\n",
       "  </thead>\n",
       "  <tbody>\n",
       "    <tr>\n",
       "      <th>0</th>\n",
       "      <td>Telangana</td>\n",
       "      <td>ADILABAD</td>\n",
       "      <td>SOYAM BAPU RAO</td>\n",
       "      <td>1</td>\n",
       "      <td>BJP</td>\n",
       "      <td>Lotus</td>\n",
       "      <td>MALE</td>\n",
       "      <td>52</td>\n",
       "      <td>52.0</td>\n",
       "      <td>ST</td>\n",
       "      <td>12th Pass</td>\n",
       "      <td>Rs 30,99,414\\n ~ 30 Lacs+</td>\n",
       "      <td>Rs 2,31,450\\n ~ 2 Lacs+</td>\n",
       "      <td>376892</td>\n",
       "      <td>482</td>\n",
       "      <td>377374</td>\n",
       "      <td>25.330684</td>\n",
       "      <td>35.468248</td>\n",
       "      <td>1489790</td>\n",
       "    </tr>\n",
       "    <tr>\n",
       "      <th>1</th>\n",
       "      <td>Telangana</td>\n",
       "      <td>ADILABAD</td>\n",
       "      <td>Godam Nagesh</td>\n",
       "      <td>0</td>\n",
       "      <td>TRS</td>\n",
       "      <td>Car</td>\n",
       "      <td>MALE</td>\n",
       "      <td>0</td>\n",
       "      <td>54.0</td>\n",
       "      <td>ST</td>\n",
       "      <td>Post Graduate</td>\n",
       "      <td>Rs 1,84,77,888\\n ~ 1 Crore+</td>\n",
       "      <td>Rs 8,47,000\\n ~ 8 Lacs+</td>\n",
       "      <td>318665</td>\n",
       "      <td>149</td>\n",
       "      <td>318814</td>\n",
       "      <td>21.399929</td>\n",
       "      <td>29.964370</td>\n",
       "      <td>1489790</td>\n",
       "    </tr>\n",
       "    <tr>\n",
       "      <th>2</th>\n",
       "      <td>Telangana</td>\n",
       "      <td>ADILABAD</td>\n",
       "      <td>RATHOD RAMESH</td>\n",
       "      <td>0</td>\n",
       "      <td>INC</td>\n",
       "      <td>Hand</td>\n",
       "      <td>MALE</td>\n",
       "      <td>3</td>\n",
       "      <td>52.0</td>\n",
       "      <td>ST</td>\n",
       "      <td>12th Pass</td>\n",
       "      <td>Rs 3,64,91,000\\n ~ 3 Crore+</td>\n",
       "      <td>Rs 1,53,00,000\\n ~ 1 Crore+</td>\n",
       "      <td>314057</td>\n",
       "      <td>181</td>\n",
       "      <td>314238</td>\n",
       "      <td>21.092771</td>\n",
       "      <td>29.534285</td>\n",
       "      <td>1489790</td>\n",
       "    </tr>\n",
       "    <tr>\n",
       "      <th>3</th>\n",
       "      <td>Telangana</td>\n",
       "      <td>ADILABAD</td>\n",
       "      <td>NOTA</td>\n",
       "      <td>0</td>\n",
       "      <td>NOTA</td>\n",
       "      <td>NaN</td>\n",
       "      <td>NaN</td>\n",
       "      <td>NaN</td>\n",
       "      <td>NaN</td>\n",
       "      <td>NaN</td>\n",
       "      <td>NaN</td>\n",
       "      <td>NaN</td>\n",
       "      <td>NaN</td>\n",
       "      <td>13030</td>\n",
       "      <td>6</td>\n",
       "      <td>13036</td>\n",
       "      <td>0.875023</td>\n",
       "      <td>1.225214</td>\n",
       "      <td>1489790</td>\n",
       "    </tr>\n",
       "    <tr>\n",
       "      <th>4</th>\n",
       "      <td>Uttar Pradesh</td>\n",
       "      <td>AGRA</td>\n",
       "      <td>Satyapal Singh Baghel</td>\n",
       "      <td>1</td>\n",
       "      <td>BJP</td>\n",
       "      <td>Lotus</td>\n",
       "      <td>MALE</td>\n",
       "      <td>5</td>\n",
       "      <td>58.0</td>\n",
       "      <td>SC</td>\n",
       "      <td>Doctorate</td>\n",
       "      <td>Rs 7,42,74,036\\n ~ 7 Crore+</td>\n",
       "      <td>Rs 86,06,522\\n ~ 86 Lacs+</td>\n",
       "      <td>644459</td>\n",
       "      <td>2416</td>\n",
       "      <td>646875</td>\n",
       "      <td>33.383823</td>\n",
       "      <td>56.464615</td>\n",
       "      <td>1937690</td>\n",
       "    </tr>\n",
       "    <tr>\n",
       "      <th>...</th>\n",
       "      <td>...</td>\n",
       "      <td>...</td>\n",
       "      <td>...</td>\n",
       "      <td>...</td>\n",
       "      <td>...</td>\n",
       "      <td>...</td>\n",
       "      <td>...</td>\n",
       "      <td>...</td>\n",
       "      <td>...</td>\n",
       "      <td>...</td>\n",
       "      <td>...</td>\n",
       "      <td>...</td>\n",
       "      <td>...</td>\n",
       "      <td>...</td>\n",
       "      <td>...</td>\n",
       "      <td>...</td>\n",
       "      <td>...</td>\n",
       "      <td>...</td>\n",
       "      <td>...</td>\n",
       "    </tr>\n",
       "    <tr>\n",
       "      <th>2258</th>\n",
       "      <td>Maharashtra</td>\n",
       "      <td>YAVATMAL-WASHIM</td>\n",
       "      <td>Anil Jayram Rathod</td>\n",
       "      <td>0</td>\n",
       "      <td>IND</td>\n",
       "      <td>SHIP</td>\n",
       "      <td>MALE</td>\n",
       "      <td>0</td>\n",
       "      <td>43.0</td>\n",
       "      <td>GENERAL</td>\n",
       "      <td>Post Graduate</td>\n",
       "      <td>Rs 48,90,000\\n ~ 48 Lacs+</td>\n",
       "      <td>Rs 10,20,000\\n ~ 10 Lacs+</td>\n",
       "      <td>14661</td>\n",
       "      <td>25</td>\n",
       "      <td>14686</td>\n",
       "      <td>0.766419</td>\n",
       "      <td>1.250060</td>\n",
       "      <td>1916185</td>\n",
       "    </tr>\n",
       "    <tr>\n",
       "      <th>2259</th>\n",
       "      <td>Telangana</td>\n",
       "      <td>ZAHIRABAD</td>\n",
       "      <td>B.B.PATIL</td>\n",
       "      <td>1</td>\n",
       "      <td>TRS</td>\n",
       "      <td>Car</td>\n",
       "      <td>MALE</td>\n",
       "      <td>18</td>\n",
       "      <td>63.0</td>\n",
       "      <td>GENERAL</td>\n",
       "      <td>Graduate</td>\n",
       "      <td>Rs 1,28,78,51,556\\n ~ 128 Crore+</td>\n",
       "      <td>Rs 1,15,35,000\\n ~ 1 Crore+</td>\n",
       "      <td>434066</td>\n",
       "      <td>178</td>\n",
       "      <td>434244</td>\n",
       "      <td>28.975369</td>\n",
       "      <td>41.574183</td>\n",
       "      <td>1498666</td>\n",
       "    </tr>\n",
       "    <tr>\n",
       "      <th>2260</th>\n",
       "      <td>Telangana</td>\n",
       "      <td>ZAHIRABAD</td>\n",
       "      <td>MADAN MOHAN RAO</td>\n",
       "      <td>0</td>\n",
       "      <td>INC</td>\n",
       "      <td>Hand</td>\n",
       "      <td>MALE</td>\n",
       "      <td>0</td>\n",
       "      <td>49.0</td>\n",
       "      <td>GENERAL</td>\n",
       "      <td>Post Graduate</td>\n",
       "      <td>Rs 90,36,63,001\\n ~ 90 Crore+</td>\n",
       "      <td>Rs 0\\n ~</td>\n",
       "      <td>427900</td>\n",
       "      <td>115</td>\n",
       "      <td>428015</td>\n",
       "      <td>28.559732</td>\n",
       "      <td>40.977823</td>\n",
       "      <td>1498666</td>\n",
       "    </tr>\n",
       "    <tr>\n",
       "      <th>2261</th>\n",
       "      <td>Telangana</td>\n",
       "      <td>ZAHIRABAD</td>\n",
       "      <td>BANALA LAXMA REDDY</td>\n",
       "      <td>0</td>\n",
       "      <td>BJP</td>\n",
       "      <td>Lotus</td>\n",
       "      <td>MALE</td>\n",
       "      <td>3</td>\n",
       "      <td>47.0</td>\n",
       "      <td>GENERAL</td>\n",
       "      <td>12th Pass</td>\n",
       "      <td>Rs 5,85,77,327\\n ~ 5 Crore+</td>\n",
       "      <td>Rs 52,50,000\\n ~ 52 Lacs+</td>\n",
       "      <td>138731</td>\n",
       "      <td>216</td>\n",
       "      <td>138947</td>\n",
       "      <td>9.271379</td>\n",
       "      <td>13.302678</td>\n",
       "      <td>1498666</td>\n",
       "    </tr>\n",
       "    <tr>\n",
       "      <th>2262</th>\n",
       "      <td>Telangana</td>\n",
       "      <td>ZAHIRABAD</td>\n",
       "      <td>NOTA</td>\n",
       "      <td>0</td>\n",
       "      <td>NOTA</td>\n",
       "      <td>NaN</td>\n",
       "      <td>NaN</td>\n",
       "      <td>NaN</td>\n",
       "      <td>NaN</td>\n",
       "      <td>NaN</td>\n",
       "      <td>NaN</td>\n",
       "      <td>NaN</td>\n",
       "      <td>NaN</td>\n",
       "      <td>11138</td>\n",
       "      <td>2</td>\n",
       "      <td>11140</td>\n",
       "      <td>0.743328</td>\n",
       "      <td>1.066535</td>\n",
       "      <td>1498666</td>\n",
       "    </tr>\n",
       "  </tbody>\n",
       "</table>\n",
       "<p>2263 rows × 19 columns</p>\n",
       "</div>"
      ],
      "text/plain": [
       "              STATE     CONSTITUENCY                   NAME  WINNER PARTY  \\\n",
       "0         Telangana         ADILABAD         SOYAM BAPU RAO       1   BJP   \n",
       "1         Telangana         ADILABAD           Godam Nagesh       0   TRS   \n",
       "2         Telangana         ADILABAD          RATHOD RAMESH       0   INC   \n",
       "3         Telangana         ADILABAD                   NOTA       0  NOTA   \n",
       "4     Uttar Pradesh             AGRA  Satyapal Singh Baghel       1   BJP   \n",
       "...             ...              ...                    ...     ...   ...   \n",
       "2258    Maharashtra  YAVATMAL-WASHIM     Anil Jayram Rathod       0   IND   \n",
       "2259      Telangana        ZAHIRABAD              B.B.PATIL       1   TRS   \n",
       "2260      Telangana        ZAHIRABAD        MADAN MOHAN RAO       0   INC   \n",
       "2261      Telangana        ZAHIRABAD     BANALA LAXMA REDDY       0   BJP   \n",
       "2262      Telangana        ZAHIRABAD                   NOTA       0  NOTA   \n",
       "\n",
       "     SYMBOL GENDER CRIMINAL CASES   AGE CATEGORY      EDUCATION  \\\n",
       "0     Lotus   MALE             52  52.0       ST      12th Pass   \n",
       "1       Car   MALE              0  54.0       ST  Post Graduate   \n",
       "2      Hand   MALE              3  52.0       ST      12th Pass   \n",
       "3       NaN    NaN            NaN   NaN      NaN            NaN   \n",
       "4     Lotus   MALE              5  58.0       SC      Doctorate   \n",
       "...     ...    ...            ...   ...      ...            ...   \n",
       "2258   SHIP   MALE              0  43.0  GENERAL  Post Graduate   \n",
       "2259    Car   MALE             18  63.0  GENERAL       Graduate   \n",
       "2260   Hand   MALE              0  49.0  GENERAL  Post Graduate   \n",
       "2261  Lotus   MALE              3  47.0  GENERAL      12th Pass   \n",
       "2262    NaN    NaN            NaN   NaN      NaN            NaN   \n",
       "\n",
       "                                ASSETS                  LIABILITIES  \\\n",
       "0            Rs 30,99,414\\n ~ 30 Lacs+      Rs 2,31,450\\n ~ 2 Lacs+   \n",
       "1          Rs 1,84,77,888\\n ~ 1 Crore+      Rs 8,47,000\\n ~ 8 Lacs+   \n",
       "2          Rs 3,64,91,000\\n ~ 3 Crore+  Rs 1,53,00,000\\n ~ 1 Crore+   \n",
       "3                                  NaN                          NaN   \n",
       "4          Rs 7,42,74,036\\n ~ 7 Crore+    Rs 86,06,522\\n ~ 86 Lacs+   \n",
       "...                                ...                          ...   \n",
       "2258         Rs 48,90,000\\n ~ 48 Lacs+    Rs 10,20,000\\n ~ 10 Lacs+   \n",
       "2259  Rs 1,28,78,51,556\\n ~ 128 Crore+  Rs 1,15,35,000\\n ~ 1 Crore+   \n",
       "2260     Rs 90,36,63,001\\n ~ 90 Crore+                     Rs 0\\n ~   \n",
       "2261       Rs 5,85,77,327\\n ~ 5 Crore+    Rs 52,50,000\\n ~ 52 Lacs+   \n",
       "2262                               NaN                          NaN   \n",
       "\n",
       "      GENERAL VOTES  POSTAL VOTES  TOTAL VOTES  \\\n",
       "0            376892           482       377374   \n",
       "1            318665           149       318814   \n",
       "2            314057           181       314238   \n",
       "3             13030             6        13036   \n",
       "4            644459          2416       646875   \n",
       "...             ...           ...          ...   \n",
       "2258          14661            25        14686   \n",
       "2259         434066           178       434244   \n",
       "2260         427900           115       428015   \n",
       "2261         138731           216       138947   \n",
       "2262          11138             2        11140   \n",
       "\n",
       "      OVER TOTAL ELECTORS IN CONSTITUENCY  \\\n",
       "0                               25.330684   \n",
       "1                               21.399929   \n",
       "2                               21.092771   \n",
       "3                                0.875023   \n",
       "4                               33.383823   \n",
       "...                                   ...   \n",
       "2258                             0.766419   \n",
       "2259                            28.975369   \n",
       "2260                            28.559732   \n",
       "2261                             9.271379   \n",
       "2262                             0.743328   \n",
       "\n",
       "      OVER TOTAL VOTES POLLED IN CONSTITUENCY  TOTAL ELECTORS  \n",
       "0                                   35.468248         1489790  \n",
       "1                                   29.964370         1489790  \n",
       "2                                   29.534285         1489790  \n",
       "3                                    1.225214         1489790  \n",
       "4                                   56.464615         1937690  \n",
       "...                                       ...             ...  \n",
       "2258                                 1.250060         1916185  \n",
       "2259                                41.574183         1498666  \n",
       "2260                                40.977823         1498666  \n",
       "2261                                13.302678         1498666  \n",
       "2262                                 1.066535         1498666  \n",
       "\n",
       "[2263 rows x 19 columns]"
      ]
     },
     "execution_count": 20,
     "metadata": {},
     "output_type": "execute_result"
    }
   ],
   "source": [
    "df = pd.read_csv(\"LS_2.0.csv\")\n",
    "df"
   ]
  },
  {
   "cell_type": "code",
   "execution_count": 52,
   "id": "1eaf75dc",
   "metadata": {},
   "outputs": [
    {
     "name": "stdout",
     "output_type": "stream",
     "text": [
      "<class 'pandas.core.frame.DataFrame'>\n",
      "RangeIndex: 2263 entries, 0 to 2262\n",
      "Data columns (total 19 columns):\n",
      " #   Column                                   Non-Null Count  Dtype  \n",
      "---  ------                                   --------------  -----  \n",
      " 0   STATE                                    2263 non-null   object \n",
      " 1   CONSTITUENCY                             2263 non-null   object \n",
      " 2   NAME                                     2263 non-null   object \n",
      " 3   WINNER                                   2263 non-null   int64  \n",
      " 4   PARTY                                    2263 non-null   object \n",
      " 5   SYMBOL                                   2018 non-null   object \n",
      " 6   GENDER                                   2018 non-null   object \n",
      " 7   CRIMINAL CASES                           2018 non-null   object \n",
      " 8   AGE                                      2018 non-null   float64\n",
      " 9   CATEGORY                                 2018 non-null   object \n",
      " 10  EDUCATION                                2018 non-null   object \n",
      " 11  ASSETS                                   2018 non-null   object \n",
      " 12  LIABILITIES                              2018 non-null   object \n",
      " 13  GENERAL VOTES                            2263 non-null   int64  \n",
      " 14  POSTAL VOTES                             2263 non-null   int64  \n",
      " 15  TOTAL VOTES                              2263 non-null   int64  \n",
      " 16  OVER TOTAL ELECTORS IN CONSTITUENCY      2263 non-null   float64\n",
      " 17  OVER TOTAL VOTES POLLED IN CONSTITUENCY  2263 non-null   float64\n",
      " 18  TOTAL ELECTORS                           2263 non-null   int64  \n",
      "dtypes: float64(3), int64(5), object(11)\n",
      "memory usage: 336.0+ KB\n"
     ]
    }
   ],
   "source": [
    "df.info()"
   ]
  },
  {
   "cell_type": "markdown",
   "id": "34401ddb",
   "metadata": {},
   "source": [
    "# Total seat elected"
   ]
  },
  {
   "cell_type": "code",
   "execution_count": 3,
   "id": "5feb7a9c",
   "metadata": {},
   "outputs": [
    {
     "data": {
      "text/plain": [
       "539"
      ]
     },
     "execution_count": 3,
     "metadata": {},
     "output_type": "execute_result"
    }
   ],
   "source": [
    "sum(df[\"WINNER\"])  ##Total no. of Winners"
   ]
  },
  {
   "cell_type": "code",
   "execution_count": 4,
   "id": "997f92e7",
   "metadata": {},
   "outputs": [
    {
     "data": {
      "text/plain": [
       "BJP      300\n",
       "INC       52\n",
       "DMK       23\n",
       "YSRCP     22\n",
       "AITC      22\n",
       "SHS       18\n",
       "JD(U)     16\n",
       "BJD       11\n",
       "BSP       11\n",
       "TRS        9\n",
       "Name: PARTY, dtype: int64"
      ]
     },
     "execution_count": 4,
     "metadata": {},
     "output_type": "execute_result"
    }
   ],
   "source": [
    "df[df[\"WINNER\"]==1][\"PARTY\"].value_counts().head(10)   #Top 10 parties having most of the seats won"
   ]
  },
  {
   "cell_type": "code",
   "execution_count": 5,
   "id": "9628eb6a",
   "metadata": {},
   "outputs": [
    {
     "data": {
      "image/png": "[encoded data removed]",
      "text/plain": [
       "<Figure size 1440x720 with 1 Axes>"
      ]
     },
     "metadata": {
      "needs_background": "light"
     },
     "output_type": "display_data"
    }
   ],
   "source": [
    "plt.figure(figsize=(20,10))\n",
    "df[df[\"WINNER\"]==1][\"PARTY\"].value_counts().plot.bar()\n",
    "plt.xlabel('PARTY')\n",
    "plt.ylabel(\"WINNER\")\n",
    "plt.grid()\n",
    "plt.show()"
   ]
  },
  {
   "cell_type": "markdown",
   "id": "e876b33a",
   "metadata": {},
   "source": [
    "# Education"
   ]
  },
  {
   "cell_type": "code",
   "execution_count": 180,
   "id": "8c53c884",
   "metadata": {
    "scrolled": true
   },
   "outputs": [
    {
     "data": {
      "text/plain": [
       "Post Graduate            503\n",
       "Graduate                 441\n",
       "Graduate Professional    336\n",
       "12th Pass                256\n",
       "10th Pass                196\n",
       "8th Pass                  78\n",
       "Doctorate                 73\n",
       "Others                    50\n",
       "Literate                  30\n",
       "5th Pass                  28\n",
       "Not Available             22\n",
       "Illiterate                 5\n",
       "Name: EDUCATION, dtype: int64"
      ]
     },
     "execution_count": 180,
     "metadata": {},
     "output_type": "execute_result"
    }
   ],
   "source": [
    "df['EDUCATION'].value_counts() ## Education of Candidate"
   ]
  },
  {
   "cell_type": "code",
   "execution_count": 15,
   "id": "c6ec8447",
   "metadata": {
    "scrolled": true
   },
   "outputs": [
    {
     "data": {
      "image/png": "[encoded data removed]",
      "text/plain": [
       "<Figure size 1440x576 with 1 Axes>"
      ]
     },
     "metadata": {
      "needs_background": "light"
     },
     "output_type": "display_data"
    }
   ],
   "source": [
    "plt.figure(figsize=(20,8))\n",
    "sns.countplot(df[\"EDUCATION\"])\n",
    "plt.show()"
   ]
  },
  {
   "cell_type": "code",
   "execution_count": 57,
   "id": "b36eb672",
   "metadata": {},
   "outputs": [
    {
     "data": {
      "text/plain": [
       "503"
      ]
     },
     "execution_count": 57,
     "metadata": {},
     "output_type": "execute_result"
    }
   ],
   "source": [
    "sum(df[\"EDUCATION\"]=='Post Graduate') ## Total number of Post Graduate Candidate"
   ]
  },
  {
   "cell_type": "code",
   "execution_count": 72,
   "id": "294b9316",
   "metadata": {},
   "outputs": [
    {
     "data": {
      "text/html": [
       "<div>\n",
       "<style scoped>\n",
       "    .dataframe tbody tr th:only-of-type {\n",
       "        vertical-align: middle;\n",
       "    }\n",
       "\n",
       "    .dataframe tbody tr th {\n",
       "        vertical-align: top;\n",
       "    }\n",
       "\n",
       "    .dataframe thead th {\n",
       "        text-align: right;\n",
       "    }\n",
       "</style>\n",
       "<table border=\"1\" class=\"dataframe\">\n",
       "  <thead>\n",
       "    <tr style=\"text-align: right;\">\n",
       "      <th></th>\n",
       "      <th>STATE</th>\n",
       "      <th>CONSTITUENCY</th>\n",
       "      <th>NAME</th>\n",
       "      <th>WINNER</th>\n",
       "      <th>PARTY</th>\n",
       "      <th>SYMBOL</th>\n",
       "      <th>GENDER</th>\n",
       "      <th>CRIMINAL CASES</th>\n",
       "      <th>AGE</th>\n",
       "      <th>CATEGORY</th>\n",
       "      <th>EDUCATION</th>\n",
       "      <th>ASSETS</th>\n",
       "      <th>LIABILITIES</th>\n",
       "      <th>GENERAL VOTES</th>\n",
       "      <th>POSTAL VOTES</th>\n",
       "      <th>TOTAL VOTES</th>\n",
       "      <th>OVER TOTAL ELECTORS IN CONSTITUENCY</th>\n",
       "      <th>OVER TOTAL VOTES POLLED IN CONSTITUENCY</th>\n",
       "      <th>TOTAL ELECTORS</th>\n",
       "    </tr>\n",
       "  </thead>\n",
       "  <tbody>\n",
       "    <tr>\n",
       "      <th>0</th>\n",
       "      <td>Telangana</td>\n",
       "      <td>ADILABAD</td>\n",
       "      <td>SOYAM BAPU RAO</td>\n",
       "      <td>1</td>\n",
       "      <td>BJP</td>\n",
       "      <td>Lotus</td>\n",
       "      <td>MALE</td>\n",
       "      <td>52</td>\n",
       "      <td>52.0</td>\n",
       "      <td>ST</td>\n",
       "      <td>12th Pass</td>\n",
       "      <td>Rs 30,99,414\\n ~ 30 Lacs+</td>\n",
       "      <td>Rs 2,31,450\\n ~ 2 Lacs+</td>\n",
       "      <td>376892</td>\n",
       "      <td>482</td>\n",
       "      <td>377374</td>\n",
       "      <td>25.330684</td>\n",
       "      <td>35.468248</td>\n",
       "      <td>1489790</td>\n",
       "    </tr>\n",
       "  </tbody>\n",
       "</table>\n",
       "</div>"
      ],
      "text/plain": [
       "       STATE CONSTITUENCY            NAME  WINNER PARTY SYMBOL GENDER  \\\n",
       "0  Telangana     ADILABAD  SOYAM BAPU RAO       1   BJP  Lotus   MALE   \n",
       "\n",
       "  CRIMINAL CASES   AGE CATEGORY  EDUCATION                     ASSETS  \\\n",
       "0             52  52.0       ST  12th Pass  Rs 30,99,414\\n ~ 30 Lacs+   \n",
       "\n",
       "               LIABILITIES  GENERAL VOTES  POSTAL VOTES  TOTAL VOTES  \\\n",
       "0  Rs 2,31,450\\n ~ 2 Lacs+         376892           482       377374   \n",
       "\n",
       "   OVER TOTAL ELECTORS IN CONSTITUENCY  \\\n",
       "0                            25.330684   \n",
       "\n",
       "   OVER TOTAL VOTES POLLED IN CONSTITUENCY  TOTAL ELECTORS  \n",
       "0                                35.468248         1489790  "
      ]
     },
     "execution_count": 72,
     "metadata": {},
     "output_type": "execute_result"
    }
   ],
   "source": [
    "df[df.ASSETS=='Rs 30,99,414\\n ~ 30 Lacs+'] ## Candidate with a particular assets"
   ]
  },
  {
   "cell_type": "code",
   "execution_count": 120,
   "id": "7ebb8b41",
   "metadata": {},
   "outputs": [
    {
     "data": {
      "text/html": [
       "<div>\n",
       "<style scoped>\n",
       "    .dataframe tbody tr th:only-of-type {\n",
       "        vertical-align: middle;\n",
       "    }\n",
       "\n",
       "    .dataframe tbody tr th {\n",
       "        vertical-align: top;\n",
       "    }\n",
       "\n",
       "    .dataframe thead th {\n",
       "        text-align: right;\n",
       "    }\n",
       "</style>\n",
       "<table border=\"1\" class=\"dataframe\">\n",
       "  <thead>\n",
       "    <tr style=\"text-align: right;\">\n",
       "      <th></th>\n",
       "      <th>STATE</th>\n",
       "      <th>CONSTITUENCY</th>\n",
       "      <th>NAME</th>\n",
       "      <th>WINNER</th>\n",
       "      <th>PARTY</th>\n",
       "      <th>SYMBOL</th>\n",
       "      <th>GENDER</th>\n",
       "      <th>CRIMINAL CASES</th>\n",
       "      <th>AGE</th>\n",
       "      <th>CATEGORY</th>\n",
       "      <th>EDUCATION</th>\n",
       "      <th>ASSETS</th>\n",
       "      <th>LIABILITIES</th>\n",
       "      <th>GENERAL VOTES</th>\n",
       "      <th>POSTAL VOTES</th>\n",
       "      <th>TOTAL VOTES</th>\n",
       "      <th>OVER TOTAL ELECTORS IN CONSTITUENCY</th>\n",
       "      <th>OVER TOTAL VOTES POLLED IN CONSTITUENCY</th>\n",
       "      <th>TOTAL ELECTORS</th>\n",
       "    </tr>\n",
       "  </thead>\n",
       "  <tbody>\n",
       "    <tr>\n",
       "      <th>906</th>\n",
       "      <td>Madhya Pradesh</td>\n",
       "      <td>INDORE</td>\n",
       "      <td>SHANKAR LALWANI</td>\n",
       "      <td>1</td>\n",
       "      <td>BJP</td>\n",
       "      <td>Lotus</td>\n",
       "      <td>MALE</td>\n",
       "      <td>2</td>\n",
       "      <td>57.0</td>\n",
       "      <td>GENERAL</td>\n",
       "      <td>Graduate Professional</td>\n",
       "      <td>Rs 5,90,38,508\\n ~ 5 Crore+</td>\n",
       "      <td>Rs 21,06,382\\n ~ 21 Lacs+</td>\n",
       "      <td>1066824</td>\n",
       "      <td>1745</td>\n",
       "      <td>1068569</td>\n",
       "      <td>45.459801</td>\n",
       "      <td>65.572673</td>\n",
       "      <td>2350580</td>\n",
       "    </tr>\n",
       "  </tbody>\n",
       "</table>\n",
       "</div>"
      ],
      "text/plain": [
       "              STATE CONSTITUENCY             NAME  WINNER PARTY SYMBOL GENDER  \\\n",
       "906  Madhya Pradesh       INDORE  SHANKAR LALWANI       1   BJP  Lotus   MALE   \n",
       "\n",
       "    CRIMINAL CASES   AGE CATEGORY              EDUCATION  \\\n",
       "906              2  57.0  GENERAL  Graduate Professional   \n",
       "\n",
       "                          ASSETS                LIABILITIES  GENERAL VOTES  \\\n",
       "906  Rs 5,90,38,508\\n ~ 5 Crore+  Rs 21,06,382\\n ~ 21 Lacs+        1066824   \n",
       "\n",
       "     POSTAL VOTES  TOTAL VOTES  OVER TOTAL ELECTORS IN CONSTITUENCY  \\\n",
       "906          1745      1068569                            45.459801   \n",
       "\n",
       "     OVER TOTAL VOTES POLLED IN CONSTITUENCY  TOTAL ELECTORS  \n",
       "906                                65.572673         2350580  "
      ]
     },
     "execution_count": 120,
     "metadata": {},
     "output_type": "execute_result"
    }
   ],
   "source": [
    "df[df[\"TOTAL VOTES\"]==df[\"TOTAL VOTES\"].max()]  ## Max Votes in Lok Sabha"
   ]
  },
  {
   "cell_type": "code",
   "execution_count": 124,
   "id": "544b6446",
   "metadata": {},
   "outputs": [
    {
     "data": {
      "text/plain": [
       "80"
      ]
     },
     "execution_count": 124,
     "metadata": {},
     "output_type": "execute_result"
    }
   ],
   "source": [
    "df[df[\"STATE\"]=='Uttar Pradesh'][\"CONSTITUENCY\"].value_counts().count() ##Total constituency in Uttar Pradesh"
   ]
  },
  {
   "cell_type": "code",
   "execution_count": 15,
   "id": "3df21e47",
   "metadata": {},
   "outputs": [
    {
     "data": {
      "text/html": [
       "<div>\n",
       "<style scoped>\n",
       "    .dataframe tbody tr th:only-of-type {\n",
       "        vertical-align: middle;\n",
       "    }\n",
       "\n",
       "    .dataframe tbody tr th {\n",
       "        vertical-align: top;\n",
       "    }\n",
       "\n",
       "    .dataframe thead th {\n",
       "        text-align: right;\n",
       "    }\n",
       "</style>\n",
       "<table border=\"1\" class=\"dataframe\">\n",
       "  <thead>\n",
       "    <tr style=\"text-align: right;\">\n",
       "      <th></th>\n",
       "      <th>STATE</th>\n",
       "      <th>CONSTITUENCY</th>\n",
       "      <th>NAME</th>\n",
       "      <th>WINNER</th>\n",
       "      <th>PARTY</th>\n",
       "      <th>SYMBOL</th>\n",
       "      <th>GENDER</th>\n",
       "      <th>CRIMINAL CASES</th>\n",
       "      <th>AGE</th>\n",
       "      <th>CATEGORY</th>\n",
       "      <th>EDUCATION</th>\n",
       "      <th>ASSETS</th>\n",
       "      <th>LIABILITIES</th>\n",
       "      <th>GENERAL VOTES</th>\n",
       "      <th>POSTAL VOTES</th>\n",
       "      <th>TOTAL VOTES</th>\n",
       "      <th>OVER TOTAL ELECTORS IN CONSTITUENCY</th>\n",
       "      <th>OVER TOTAL VOTES POLLED IN CONSTITUENCY</th>\n",
       "      <th>TOTAL ELECTORS</th>\n",
       "    </tr>\n",
       "  </thead>\n",
       "  <tbody>\n",
       "    <tr>\n",
       "      <th>64</th>\n",
       "      <td>Uttar Pradesh</td>\n",
       "      <td>AMETHI</td>\n",
       "      <td>Rahul Gandhi</td>\n",
       "      <td>0</td>\n",
       "      <td>INC</td>\n",
       "      <td>Hand</td>\n",
       "      <td>MALE</td>\n",
       "      <td>6</td>\n",
       "      <td>48.0</td>\n",
       "      <td>GENERAL</td>\n",
       "      <td>Post Graduate</td>\n",
       "      <td>Rs 15,88,77,063\\n ~ 15 Crore+</td>\n",
       "      <td>Rs 72,01,904\\n ~ 72 Lacs+</td>\n",
       "      <td>412867</td>\n",
       "      <td>527</td>\n",
       "      <td>413394</td>\n",
       "      <td>23.710378</td>\n",
       "      <td>43.840222</td>\n",
       "      <td>1743515</td>\n",
       "    </tr>\n",
       "    <tr>\n",
       "      <th>2247</th>\n",
       "      <td>Kerala</td>\n",
       "      <td>WAYANAD</td>\n",
       "      <td>Rahul Gandhi</td>\n",
       "      <td>1</td>\n",
       "      <td>INC</td>\n",
       "      <td>Hand</td>\n",
       "      <td>MALE</td>\n",
       "      <td>5</td>\n",
       "      <td>48.0</td>\n",
       "      <td>GENERAL</td>\n",
       "      <td>Post Graduate</td>\n",
       "      <td>Rs 15,88,77,063\\n ~ 15 Crore+</td>\n",
       "      <td>Rs 72,01,904\\n ~ 72 Lacs+</td>\n",
       "      <td>705034</td>\n",
       "      <td>1333</td>\n",
       "      <td>706367</td>\n",
       "      <td>51.951012</td>\n",
       "      <td>64.640694</td>\n",
       "      <td>1359679</td>\n",
       "    </tr>\n",
       "  </tbody>\n",
       "</table>\n",
       "</div>"
      ],
      "text/plain": [
       "              STATE CONSTITUENCY          NAME  WINNER PARTY SYMBOL GENDER  \\\n",
       "64    Uttar Pradesh       AMETHI  Rahul Gandhi       0   INC   Hand   MALE   \n",
       "2247         Kerala      WAYANAD  Rahul Gandhi       1   INC   Hand   MALE   \n",
       "\n",
       "     CRIMINAL CASES   AGE CATEGORY      EDUCATION  \\\n",
       "64                6  48.0  GENERAL  Post Graduate   \n",
       "2247              5  48.0  GENERAL  Post Graduate   \n",
       "\n",
       "                             ASSETS                LIABILITIES  GENERAL VOTES  \\\n",
       "64    Rs 15,88,77,063\\n ~ 15 Crore+  Rs 72,01,904\\n ~ 72 Lacs+         412867   \n",
       "2247  Rs 15,88,77,063\\n ~ 15 Crore+  Rs 72,01,904\\n ~ 72 Lacs+         705034   \n",
       "\n",
       "      POSTAL VOTES  TOTAL VOTES  OVER TOTAL ELECTORS IN CONSTITUENCY  \\\n",
       "64             527       413394                            23.710378   \n",
       "2247          1333       706367                            51.951012   \n",
       "\n",
       "      OVER TOTAL VOTES POLLED IN CONSTITUENCY  TOTAL ELECTORS  \n",
       "64                                  43.840222         1743515  \n",
       "2247                                64.640694         1359679  "
      ]
     },
     "execution_count": 15,
     "metadata": {},
     "output_type": "execute_result"
    }
   ],
   "source": [
    "df[df[\"NAME\"]==\"Rahul Gandhi\"]"
   ]
  },
  {
   "cell_type": "code",
   "execution_count": 16,
   "id": "a2636737",
   "metadata": {},
   "outputs": [
    {
     "data": {
      "text/html": [
       "<div>\n",
       "<style scoped>\n",
       "    .dataframe tbody tr th:only-of-type {\n",
       "        vertical-align: middle;\n",
       "    }\n",
       "\n",
       "    .dataframe tbody tr th {\n",
       "        vertical-align: top;\n",
       "    }\n",
       "\n",
       "    .dataframe thead th {\n",
       "        text-align: right;\n",
       "    }\n",
       "</style>\n",
       "<table border=\"1\" class=\"dataframe\">\n",
       "  <thead>\n",
       "    <tr style=\"text-align: right;\">\n",
       "      <th></th>\n",
       "      <th>STATE</th>\n",
       "      <th>CONSTITUENCY</th>\n",
       "      <th>NAME</th>\n",
       "      <th>WINNER</th>\n",
       "      <th>PARTY</th>\n",
       "      <th>SYMBOL</th>\n",
       "      <th>GENDER</th>\n",
       "      <th>CRIMINAL CASES</th>\n",
       "      <th>AGE</th>\n",
       "      <th>CATEGORY</th>\n",
       "      <th>EDUCATION</th>\n",
       "      <th>ASSETS</th>\n",
       "      <th>LIABILITIES</th>\n",
       "      <th>GENERAL VOTES</th>\n",
       "      <th>POSTAL VOTES</th>\n",
       "      <th>TOTAL VOTES</th>\n",
       "      <th>OVER TOTAL ELECTORS IN CONSTITUENCY</th>\n",
       "      <th>OVER TOTAL VOTES POLLED IN CONSTITUENCY</th>\n",
       "      <th>TOTAL ELECTORS</th>\n",
       "    </tr>\n",
       "  </thead>\n",
       "  <tbody>\n",
       "    <tr>\n",
       "      <th>2202</th>\n",
       "      <td>Uttar Pradesh</td>\n",
       "      <td>VARANASI</td>\n",
       "      <td>NARENDRA MODI</td>\n",
       "      <td>1</td>\n",
       "      <td>BJP</td>\n",
       "      <td>Lotus</td>\n",
       "      <td>MALE</td>\n",
       "      <td>0</td>\n",
       "      <td>68.0</td>\n",
       "      <td>GENERAL</td>\n",
       "      <td>Post Graduate</td>\n",
       "      <td>Rs 2,51,36,119\\n ~ 2 Crore+</td>\n",
       "      <td>Rs 0\\n ~</td>\n",
       "      <td>673453</td>\n",
       "      <td>1211</td>\n",
       "      <td>674664</td>\n",
       "      <td>36.334946</td>\n",
       "      <td>63.597809</td>\n",
       "      <td>1856791</td>\n",
       "    </tr>\n",
       "  </tbody>\n",
       "</table>\n",
       "</div>"
      ],
      "text/plain": [
       "              STATE CONSTITUENCY           NAME  WINNER PARTY SYMBOL GENDER  \\\n",
       "2202  Uttar Pradesh     VARANASI  NARENDRA MODI       1   BJP  Lotus   MALE   \n",
       "\n",
       "     CRIMINAL CASES   AGE CATEGORY      EDUCATION  \\\n",
       "2202              0  68.0  GENERAL  Post Graduate   \n",
       "\n",
       "                           ASSETS LIABILITIES  GENERAL VOTES  POSTAL VOTES  \\\n",
       "2202  Rs 2,51,36,119\\n ~ 2 Crore+    Rs 0\\n ~         673453          1211   \n",
       "\n",
       "      TOTAL VOTES  OVER TOTAL ELECTORS IN CONSTITUENCY  \\\n",
       "2202       674664                            36.334946   \n",
       "\n",
       "      OVER TOTAL VOTES POLLED IN CONSTITUENCY  TOTAL ELECTORS  \n",
       "2202                                63.597809         1856791  "
      ]
     },
     "execution_count": 16,
     "metadata": {},
     "output_type": "execute_result"
    }
   ],
   "source": [
    "df[df[\"NAME\"]==\"NARENDRA MODI\"]"
   ]
  },
  {
   "cell_type": "code",
   "execution_count": 8,
   "id": "b3a23022",
   "metadata": {},
   "outputs": [
    {
     "data": {
      "text/html": [
       "<div>\n",
       "<style scoped>\n",
       "    .dataframe tbody tr th:only-of-type {\n",
       "        vertical-align: middle;\n",
       "    }\n",
       "\n",
       "    .dataframe tbody tr th {\n",
       "        vertical-align: top;\n",
       "    }\n",
       "\n",
       "    .dataframe thead th {\n",
       "        text-align: right;\n",
       "    }\n",
       "</style>\n",
       "<table border=\"1\" class=\"dataframe\">\n",
       "  <thead>\n",
       "    <tr style=\"text-align: right;\">\n",
       "      <th></th>\n",
       "      <th>STATE</th>\n",
       "      <th>CONSTITUENCY</th>\n",
       "      <th>NAME</th>\n",
       "      <th>WINNER</th>\n",
       "      <th>PARTY</th>\n",
       "      <th>SYMBOL</th>\n",
       "      <th>GENDER</th>\n",
       "      <th>CRIMINAL CASES</th>\n",
       "      <th>AGE</th>\n",
       "      <th>CATEGORY</th>\n",
       "      <th>EDUCATION</th>\n",
       "      <th>ASSETS</th>\n",
       "      <th>LIABILITIES</th>\n",
       "      <th>GENERAL VOTES</th>\n",
       "      <th>POSTAL VOTES</th>\n",
       "      <th>TOTAL VOTES</th>\n",
       "      <th>OVER TOTAL ELECTORS IN CONSTITUENCY</th>\n",
       "      <th>OVER TOTAL VOTES POLLED IN CONSTITUENCY</th>\n",
       "      <th>TOTAL ELECTORS</th>\n",
       "    </tr>\n",
       "  </thead>\n",
       "  <tbody>\n",
       "    <tr>\n",
       "      <th>63</th>\n",
       "      <td>Uttar Pradesh</td>\n",
       "      <td>AMETHI</td>\n",
       "      <td>Smriti Irani</td>\n",
       "      <td>1</td>\n",
       "      <td>BJP</td>\n",
       "      <td>Lotus</td>\n",
       "      <td>FEMALE</td>\n",
       "      <td>0</td>\n",
       "      <td>43.0</td>\n",
       "      <td>GENERAL</td>\n",
       "      <td>12th Pass</td>\n",
       "      <td>Rs 11,10,99,609\\n ~ 11 Crore+</td>\n",
       "      <td>Rs 0\\n ~</td>\n",
       "      <td>467598</td>\n",
       "      <td>916</td>\n",
       "      <td>468514</td>\n",
       "      <td>26.871808</td>\n",
       "      <td>49.685669</td>\n",
       "      <td>1743515</td>\n",
       "    </tr>\n",
       "    <tr>\n",
       "      <th>64</th>\n",
       "      <td>Uttar Pradesh</td>\n",
       "      <td>AMETHI</td>\n",
       "      <td>Rahul Gandhi</td>\n",
       "      <td>0</td>\n",
       "      <td>INC</td>\n",
       "      <td>Hand</td>\n",
       "      <td>MALE</td>\n",
       "      <td>6</td>\n",
       "      <td>48.0</td>\n",
       "      <td>GENERAL</td>\n",
       "      <td>Post Graduate</td>\n",
       "      <td>Rs 15,88,77,063\\n ~ 15 Crore+</td>\n",
       "      <td>Rs 72,01,904\\n ~ 72 Lacs+</td>\n",
       "      <td>412867</td>\n",
       "      <td>527</td>\n",
       "      <td>413394</td>\n",
       "      <td>23.710378</td>\n",
       "      <td>43.840222</td>\n",
       "      <td>1743515</td>\n",
       "    </tr>\n",
       "  </tbody>\n",
       "</table>\n",
       "</div>"
      ],
      "text/plain": [
       "            STATE CONSTITUENCY          NAME  WINNER PARTY SYMBOL  GENDER  \\\n",
       "63  Uttar Pradesh       AMETHI  Smriti Irani       1   BJP  Lotus  FEMALE   \n",
       "64  Uttar Pradesh       AMETHI  Rahul Gandhi       0   INC   Hand    MALE   \n",
       "\n",
       "   CRIMINAL CASES   AGE CATEGORY      EDUCATION  \\\n",
       "63              0  43.0  GENERAL      12th Pass   \n",
       "64              6  48.0  GENERAL  Post Graduate   \n",
       "\n",
       "                           ASSETS                LIABILITIES  GENERAL VOTES  \\\n",
       "63  Rs 11,10,99,609\\n ~ 11 Crore+                   Rs 0\\n ~         467598   \n",
       "64  Rs 15,88,77,063\\n ~ 15 Crore+  Rs 72,01,904\\n ~ 72 Lacs+         412867   \n",
       "\n",
       "    POSTAL VOTES  TOTAL VOTES  OVER TOTAL ELECTORS IN CONSTITUENCY  \\\n",
       "63           916       468514                            26.871808   \n",
       "64           527       413394                            23.710378   \n",
       "\n",
       "    OVER TOTAL VOTES POLLED IN CONSTITUENCY  TOTAL ELECTORS  \n",
       "63                                49.685669         1743515  \n",
       "64                                43.840222         1743515  "
      ]
     },
     "execution_count": 8,
     "metadata": {},
     "output_type": "execute_result"
    }
   ],
   "source": [
    "df[df[\"CONSTITUENCY\"]=='AMETHI']"
   ]
  },
  {
   "cell_type": "markdown",
   "id": "3986c02a",
   "metadata": {},
   "source": [
    "# Total number of votes by which Smriti Irani Won the Election against Rahul Gandhi"
   ]
  },
  {
   "cell_type": "code",
   "execution_count": 23,
   "id": "faa1f3d8",
   "metadata": {},
   "outputs": [
    {
     "data": {
      "text/plain": [
       "55120"
      ]
     },
     "execution_count": 23,
     "metadata": {},
     "output_type": "execute_result"
    }
   ],
   "source": [
    "sum(df[df[\"NAME\"]==\"Smriti Irani\"]['TOTAL VOTES']) - sum(df[(df[\"CONSTITUENCY\"]=='AMETHI') & (df[\"NAME\"]==\"Rahul Gandhi\")]['TOTAL VOTES'])"
   ]
  },
  {
   "cell_type": "code",
   "execution_count": 142,
   "id": "9d81562a",
   "metadata": {},
   "outputs": [
    {
     "data": {
      "image/png": "[encoded data removed]",
      "text/plain": [
       "<Figure size 432x288 with 1 Axes>"
      ]
     },
     "metadata": {
      "needs_background": "light"
     },
     "output_type": "display_data"
    }
   ],
   "source": [
    "sns.barplot(x=df[df[\"CONSTITUENCY\"]=='AMETHI']['NAME'],y=df[df[\"CONSTITUENCY\"]=='AMETHI'][\"TOTAL VOTES\"]) \n",
    "plt.grid()\n",
    "plt.show()\n"
   ]
  },
  {
   "cell_type": "code",
   "execution_count": 7,
   "id": "802589e0",
   "metadata": {},
   "outputs": [
    {
     "data": {
      "image/png": "[encoded data removed]",
      "text/plain": [
       "<Figure size 1440x720 with 1 Axes>"
      ]
     },
     "metadata": {
      "needs_background": "light"
     },
     "output_type": "display_data"
    }
   ],
   "source": [
    "plt.figure(figsize=(20,10))\n",
    "df[df[\"AGE\"]>=50][\"PARTY\"].value_counts().plot.bar()      #### PARTY WITH CANDIDATES HAVING AGE GREATER THAN 50 \n",
    "plt.xlabel(\"PARTY\")\n",
    "plt.ylabel(\"CANDIDATE\")\n",
    "plt.grid()\n",
    "plt.show()\n"
   ]
  },
  {
   "cell_type": "markdown",
   "id": "56ad119a",
   "metadata": {},
   "source": [
    "# Maharashtra constituency "
   ]
  },
  {
   "cell_type": "code",
   "execution_count": 7,
   "id": "7a030739",
   "metadata": {},
   "outputs": [
    {
     "data": {
      "text/plain": [
       "48"
      ]
     },
     "execution_count": 7,
     "metadata": {},
     "output_type": "execute_result"
    }
   ],
   "source": [
    "df[df[\"STATE\"]=='Maharashtra'][\"CONSTITUENCY\"].value_counts().count() ##Total constituency in Maharashtra"
   ]
  },
  {
   "cell_type": "code",
   "execution_count": 9,
   "id": "d9c98856",
   "metadata": {},
   "outputs": [
    {
     "data": {
      "text/plain": [
       "VBA       47\n",
       "BJP       25\n",
       "INC       25\n",
       "SHS       23\n",
       "NCP       19\n",
       "NOTA      17\n",
       "IND       16\n",
       "BSP        9\n",
       "CPI(M)     3\n",
       "SWP        2\n",
       "AIMIM      1\n",
       "APoI       1\n",
       "BVA        1\n",
       "MSHP       1\n",
       "BARESP     1\n",
       "PHJSP      1\n",
       "Name: PARTY, dtype: int64"
      ]
     },
     "execution_count": 9,
     "metadata": {},
     "output_type": "execute_result"
    }
   ],
   "source": [
    "df[df[\"STATE\"]==\"Maharashtra\"][\"PARTY\"].value_counts() ##Candidate from each party for election in Maharashtra"
   ]
  },
  {
   "cell_type": "code",
   "execution_count": 314,
   "id": "4baefe8d",
   "metadata": {},
   "outputs": [
    {
     "data": {
      "image/png": "[encoded data removed]",
      "text/plain": [
       "<Figure size 1440x720 with 1 Axes>"
      ]
     },
     "metadata": {},
     "output_type": "display_data"
    }
   ],
   "source": [
    "plt.figure(figsize=(20,10))\n",
    "df[df[\"STATE\"]==\"Maharashtra\"][\"PARTY\"].value_counts().plot.pie(autopct=\"%1.1f%%\")\n",
    "plt.title(\"Candidates from different parties\")\n",
    "plt.show()"
   ]
  },
  {
   "cell_type": "code",
   "execution_count": 8,
   "id": "7a60da86",
   "metadata": {},
   "outputs": [
    {
     "data": {
      "text/html": [
       "<div>\n",
       "<style scoped>\n",
       "    .dataframe tbody tr th:only-of-type {\n",
       "        vertical-align: middle;\n",
       "    }\n",
       "\n",
       "    .dataframe tbody tr th {\n",
       "        vertical-align: top;\n",
       "    }\n",
       "\n",
       "    .dataframe thead th {\n",
       "        text-align: right;\n",
       "    }\n",
       "</style>\n",
       "<table border=\"1\" class=\"dataframe\">\n",
       "  <thead>\n",
       "    <tr style=\"text-align: right;\">\n",
       "      <th></th>\n",
       "      <th>STATE</th>\n",
       "      <th>CONSTITUENCY</th>\n",
       "      <th>NAME</th>\n",
       "      <th>WINNER</th>\n",
       "      <th>PARTY</th>\n",
       "      <th>SYMBOL</th>\n",
       "      <th>GENDER</th>\n",
       "      <th>CRIMINAL CASES</th>\n",
       "      <th>AGE</th>\n",
       "      <th>CATEGORY</th>\n",
       "      <th>EDUCATION</th>\n",
       "      <th>ASSETS</th>\n",
       "      <th>LIABILITIES</th>\n",
       "      <th>GENERAL VOTES</th>\n",
       "      <th>POSTAL VOTES</th>\n",
       "      <th>TOTAL VOTES</th>\n",
       "      <th>OVER TOTAL ELECTORS IN CONSTITUENCY</th>\n",
       "      <th>OVER TOTAL VOTES POLLED IN CONSTITUENCY</th>\n",
       "      <th>TOTAL ELECTORS</th>\n",
       "    </tr>\n",
       "  </thead>\n",
       "  <tbody>\n",
       "    <tr>\n",
       "      <th>1197</th>\n",
       "      <td>Maharashtra</td>\n",
       "      <td>KOLHAPUR</td>\n",
       "      <td>Sanjay Sadashivrao Mandlik</td>\n",
       "      <td>1</td>\n",
       "      <td>SHS</td>\n",
       "      <td>Bow and Arrow</td>\n",
       "      <td>MALE</td>\n",
       "      <td>0</td>\n",
       "      <td>54.0</td>\n",
       "      <td>GENERAL</td>\n",
       "      <td>Post Graduate</td>\n",
       "      <td>Rs 9,51,71,892\\n ~ 9 Crore+</td>\n",
       "      <td>Rs 1,05,80,414\\n ~ 1 Crore+</td>\n",
       "      <td>745675</td>\n",
       "      <td>3410</td>\n",
       "      <td>749085</td>\n",
       "      <td>39.834437</td>\n",
       "      <td>56.216342</td>\n",
       "      <td>1880496</td>\n",
       "    </tr>\n",
       "  </tbody>\n",
       "</table>\n",
       "</div>"
      ],
      "text/plain": [
       "            STATE CONSTITUENCY                        NAME  WINNER PARTY  \\\n",
       "1197  Maharashtra     KOLHAPUR  Sanjay Sadashivrao Mandlik       1   SHS   \n",
       "\n",
       "             SYMBOL GENDER CRIMINAL CASES   AGE CATEGORY      EDUCATION  \\\n",
       "1197  Bow and Arrow   MALE              0  54.0  GENERAL  Post Graduate   \n",
       "\n",
       "                           ASSETS                  LIABILITIES  GENERAL VOTES  \\\n",
       "1197  Rs 9,51,71,892\\n ~ 9 Crore+  Rs 1,05,80,414\\n ~ 1 Crore+         745675   \n",
       "\n",
       "      POSTAL VOTES  TOTAL VOTES  OVER TOTAL ELECTORS IN CONSTITUENCY  \\\n",
       "1197          3410       749085                            39.834437   \n",
       "\n",
       "      OVER TOTAL VOTES POLLED IN CONSTITUENCY  TOTAL ELECTORS  \n",
       "1197                                56.216342         1880496  "
      ]
     },
     "execution_count": 8,
     "metadata": {},
     "output_type": "execute_result"
    }
   ],
   "source": [
    "df[df[\"TOTAL VOTES\"]==df[df.STATE=='Maharashtra']['TOTAL VOTES'].max()] ## Max Votes in Maharashtra"
   ]
  },
  {
   "cell_type": "code",
   "execution_count": 9,
   "id": "3f077de6",
   "metadata": {},
   "outputs": [
    {
     "data": {
      "text/html": [
       "<div>\n",
       "<style scoped>\n",
       "    .dataframe tbody tr th:only-of-type {\n",
       "        vertical-align: middle;\n",
       "    }\n",
       "\n",
       "    .dataframe tbody tr th {\n",
       "        vertical-align: top;\n",
       "    }\n",
       "\n",
       "    .dataframe thead th {\n",
       "        text-align: right;\n",
       "    }\n",
       "</style>\n",
       "<table border=\"1\" class=\"dataframe\">\n",
       "  <thead>\n",
       "    <tr style=\"text-align: right;\">\n",
       "      <th></th>\n",
       "      <th>STATE</th>\n",
       "      <th>CONSTITUENCY</th>\n",
       "      <th>NAME</th>\n",
       "      <th>WINNER</th>\n",
       "      <th>PARTY</th>\n",
       "      <th>SYMBOL</th>\n",
       "      <th>GENDER</th>\n",
       "      <th>CRIMINAL CASES</th>\n",
       "      <th>AGE</th>\n",
       "      <th>CATEGORY</th>\n",
       "      <th>EDUCATION</th>\n",
       "      <th>ASSETS</th>\n",
       "      <th>LIABILITIES</th>\n",
       "      <th>GENERAL VOTES</th>\n",
       "      <th>POSTAL VOTES</th>\n",
       "      <th>TOTAL VOTES</th>\n",
       "      <th>OVER TOTAL ELECTORS IN CONSTITUENCY</th>\n",
       "      <th>OVER TOTAL VOTES POLLED IN CONSTITUENCY</th>\n",
       "      <th>TOTAL ELECTORS</th>\n",
       "    </tr>\n",
       "  </thead>\n",
       "  <tbody>\n",
       "    <tr>\n",
       "      <th>1469</th>\n",
       "      <td>Maharashtra</td>\n",
       "      <td>MUMBAI SOUTH CENTRAL</td>\n",
       "      <td>Ahmed Shakil Sagir Ahmed Shaikh</td>\n",
       "      <td>0</td>\n",
       "      <td>BSP</td>\n",
       "      <td>Elephant</td>\n",
       "      <td>MALE</td>\n",
       "      <td>1</td>\n",
       "      <td>41.0</td>\n",
       "      <td>GENERAL</td>\n",
       "      <td>5th Pass</td>\n",
       "      <td>Rs 36,47,388\\n ~ 36 Lacs+</td>\n",
       "      <td>Rs 0\\n ~</td>\n",
       "      <td>8623</td>\n",
       "      <td>12</td>\n",
       "      <td>8635</td>\n",
       "      <td>0.599495</td>\n",
       "      <td>1.082212</td>\n",
       "      <td>1440380</td>\n",
       "    </tr>\n",
       "  </tbody>\n",
       "</table>\n",
       "</div>"
      ],
      "text/plain": [
       "            STATE          CONSTITUENCY                             NAME  \\\n",
       "1469  Maharashtra  MUMBAI SOUTH CENTRAL  Ahmed Shakil Sagir Ahmed Shaikh   \n",
       "\n",
       "      WINNER PARTY    SYMBOL GENDER CRIMINAL CASES   AGE CATEGORY EDUCATION  \\\n",
       "1469       0   BSP  Elephant   MALE              1  41.0  GENERAL  5th Pass   \n",
       "\n",
       "                         ASSETS LIABILITIES  GENERAL VOTES  POSTAL VOTES  \\\n",
       "1469  Rs 36,47,388\\n ~ 36 Lacs+    Rs 0\\n ~           8623            12   \n",
       "\n",
       "      TOTAL VOTES  OVER TOTAL ELECTORS IN CONSTITUENCY  \\\n",
       "1469         8635                             0.599495   \n",
       "\n",
       "      OVER TOTAL VOTES POLLED IN CONSTITUENCY  TOTAL ELECTORS  \n",
       "1469                                 1.082212         1440380  "
      ]
     },
     "execution_count": 9,
     "metadata": {},
     "output_type": "execute_result"
    }
   ],
   "source": [
    "df[df[\"TOTAL VOTES\"]==df[df.STATE=='Maharashtra']['TOTAL VOTES'].min()] ## Minimum Votes in Maharashtra"
   ]
  },
  {
   "cell_type": "code",
   "execution_count": 10,
   "id": "e18cfcd4",
   "metadata": {},
   "outputs": [
    {
     "data": {
      "text/plain": [
       "BJP      22\n",
       "SHS      18\n",
       "NCP       4\n",
       "IND       1\n",
       "AIMIM     1\n",
       "INC       1\n",
       "Name: PARTY, dtype: int64"
      ]
     },
     "execution_count": 10,
     "metadata": {},
     "output_type": "execute_result"
    }
   ],
   "source": [
    "df[(df[\"STATE\"]==\"Maharashtra\")&(df[\"WINNER\"]==1)][\"PARTY\"].value_counts()  ##Winners in Maharashtra"
   ]
  },
  {
   "cell_type": "code",
   "execution_count": 41,
   "id": "6b366c8e",
   "metadata": {},
   "outputs": [
    {
     "data": {
      "text/plain": [
       "47"
      ]
     },
     "execution_count": 41,
     "metadata": {},
     "output_type": "execute_result"
    }
   ],
   "source": [
    "df[(df[\"STATE\"]==\"Maharashtra\")&(df[\"WINNER\"]==1)].value_counts().count()"
   ]
  },
  {
   "cell_type": "code",
   "execution_count": 30,
   "id": "c89b960b",
   "metadata": {},
   "outputs": [
    {
     "data": {
      "text/plain": [
       "22"
      ]
     },
     "execution_count": 30,
     "metadata": {},
     "output_type": "execute_result"
    }
   ],
   "source": [
    "df[(df[\"STATE\"]==\"Maharashtra\")&(df[\"WINNER\"]==1)&(df[\"PARTY\"]==\"BJP\")].value_counts().count()  ##WINNERS from BJP Party In Maharashtra"
   ]
  },
  {
   "cell_type": "code",
   "execution_count": 42,
   "id": "deb49ae4",
   "metadata": {},
   "outputs": [
    {
     "data": {
      "text/plain": [
       "18"
      ]
     },
     "execution_count": 42,
     "metadata": {},
     "output_type": "execute_result"
    }
   ],
   "source": [
    "sum(df[(df[\"PARTY\"]==\"SHS\")&(df[\"WINNER\"]==1)].value_counts())  ##TOTAL SEATS OCCUPIED BY SHIV-SENA"
   ]
  },
  {
   "cell_type": "markdown",
   "id": "a0a80c4a",
   "metadata": {},
   "source": [
    "# Criminal Cases\n"
   ]
  },
  {
   "cell_type": "code",
   "execution_count": 21,
   "id": "5688fbd3",
   "metadata": {},
   "outputs": [],
   "source": [
    "df['CRIMINAL CASES'] = pd.to_numeric(df['CRIMINAL CASES'] , errors='coerce')"
   ]
  },
  {
   "cell_type": "code",
   "execution_count": 72,
   "id": "23058b3d",
   "metadata": {},
   "outputs": [
    {
     "data": {
      "image/png": "[encoded data removed]",
      "text/plain": [
       "<Figure size 1440x720 with 1 Axes>"
      ]
     },
     "metadata": {
      "needs_background": "light"
     },
     "output_type": "display_data"
    }
   ],
   "source": [
    "plt.figure(figsize=(20,10))\n",
    "sns.countplot(df[\"CRIMINAL CASES\"])   ##Count plot according to criminal cases\n",
    "plt.show()"
   ]
  },
  {
   "cell_type": "code",
   "execution_count": 71,
   "id": "ccc2ae02",
   "metadata": {},
   "outputs": [
    {
     "data": {
      "image/png": "[encoded data removed]",
      "text/plain": [
       "<Figure size 1440x576 with 1 Axes>"
      ]
     },
     "metadata": {
      "needs_background": "light"
     },
     "output_type": "display_data"
    }
   ],
   "source": [
    "plt.figure(figsize=(20,8))                               ##Candidates with criminal cases in Maharashtra w.r.t Parties\n",
    "a = df[df['STATE']=='Maharashtra'][\"PARTY\"]\n",
    "sns.scatterplot(x=a,y='CRIMINAL CASES',data=df,hue=\"WINNER\")\n",
    "plt.show()"
   ]
  },
  {
   "cell_type": "code",
   "execution_count": 63,
   "id": "a0b39eab",
   "metadata": {},
   "outputs": [
    {
     "data": {
      "text/html": [
       "<div>\n",
       "<style scoped>\n",
       "    .dataframe tbody tr th:only-of-type {\n",
       "        vertical-align: middle;\n",
       "    }\n",
       "\n",
       "    .dataframe tbody tr th {\n",
       "        vertical-align: top;\n",
       "    }\n",
       "\n",
       "    .dataframe thead th {\n",
       "        text-align: right;\n",
       "    }\n",
       "</style>\n",
       "<table border=\"1\" class=\"dataframe\">\n",
       "  <thead>\n",
       "    <tr style=\"text-align: right;\">\n",
       "      <th></th>\n",
       "      <th>STATE</th>\n",
       "      <th>CONSTITUENCY</th>\n",
       "      <th>NAME</th>\n",
       "      <th>WINNER</th>\n",
       "      <th>PARTY</th>\n",
       "      <th>SYMBOL</th>\n",
       "      <th>GENDER</th>\n",
       "      <th>CRIMINAL CASES</th>\n",
       "      <th>AGE</th>\n",
       "      <th>CATEGORY</th>\n",
       "      <th>EDUCATION</th>\n",
       "      <th>ASSETS</th>\n",
       "      <th>LIABILITIES</th>\n",
       "      <th>GENERAL VOTES</th>\n",
       "      <th>POSTAL VOTES</th>\n",
       "      <th>TOTAL VOTES</th>\n",
       "      <th>OVER TOTAL ELECTORS IN CONSTITUENCY</th>\n",
       "      <th>OVER TOTAL VOTES POLLED IN CONSTITUENCY</th>\n",
       "      <th>TOTAL ELECTORS</th>\n",
       "    </tr>\n",
       "  </thead>\n",
       "  <tbody>\n",
       "    <tr>\n",
       "      <th>1652</th>\n",
       "      <td>Kerala</td>\n",
       "      <td>PATHANAMTHITTA</td>\n",
       "      <td>K SURENDRAN</td>\n",
       "      <td>0</td>\n",
       "      <td>BJP</td>\n",
       "      <td>Lotus</td>\n",
       "      <td>MALE</td>\n",
       "      <td>240.0</td>\n",
       "      <td>49.0</td>\n",
       "      <td>GENERAL</td>\n",
       "      <td>Graduate</td>\n",
       "      <td>Rs 40,44,300\\n ~ 40 Lacs+</td>\n",
       "      <td>Rs 13,08,799\\n ~ 13 Lacs+</td>\n",
       "      <td>295627</td>\n",
       "      <td>1769</td>\n",
       "      <td>297396</td>\n",
       "      <td>21.507715</td>\n",
       "      <td>28.947087</td>\n",
       "      <td>1382741</td>\n",
       "    </tr>\n",
       "  </tbody>\n",
       "</table>\n",
       "</div>"
      ],
      "text/plain": [
       "       STATE    CONSTITUENCY         NAME  WINNER PARTY SYMBOL GENDER  \\\n",
       "1652  Kerala  PATHANAMTHITTA  K SURENDRAN       0   BJP  Lotus   MALE   \n",
       "\n",
       "      CRIMINAL CASES   AGE CATEGORY EDUCATION                     ASSETS  \\\n",
       "1652           240.0  49.0  GENERAL  Graduate  Rs 40,44,300\\n ~ 40 Lacs+   \n",
       "\n",
       "                    LIABILITIES  GENERAL VOTES  POSTAL VOTES  TOTAL VOTES  \\\n",
       "1652  Rs 13,08,799\\n ~ 13 Lacs+         295627          1769       297396   \n",
       "\n",
       "      OVER TOTAL ELECTORS IN CONSTITUENCY  \\\n",
       "1652                            21.507715   \n",
       "\n",
       "      OVER TOTAL VOTES POLLED IN CONSTITUENCY  TOTAL ELECTORS  \n",
       "1652                                28.947087         1382741  "
      ]
     },
     "execution_count": 63,
     "metadata": {},
     "output_type": "execute_result"
    }
   ],
   "source": [
    "df[df[\"CRIMINAL CASES\"]==df[\"CRIMINAL CASES\"].max()]   ##Candidate with maximum no. of criminal cases"
   ]
  },
  {
   "cell_type": "code",
   "execution_count": 64,
   "id": "84133368",
   "metadata": {},
   "outputs": [
    {
     "data": {
      "text/plain": [
       "1264"
      ]
     },
     "execution_count": 64,
     "metadata": {},
     "output_type": "execute_result"
    }
   ],
   "source": [
    "df[(df[\"CRIMINAL CASES\"]==df[\"CRIMINAL CASES\"].min())].value_counts().count()  ##No. of candidates with zero criminal cases"
   ]
  },
  {
   "cell_type": "code",
   "execution_count": 69,
   "id": "462d239b",
   "metadata": {},
   "outputs": [
    {
     "data": {
      "text/plain": [
       "898.0"
      ]
     },
     "execution_count": 69,
     "metadata": {},
     "output_type": "execute_result"
    }
   ],
   "source": [
    "sum(df[df[\"PARTY\"]=='BJP'][\"CRIMINAL CASES\"])  ##Total Criminal cases on BJP candidates"
   ]
  },
  {
   "cell_type": "code",
   "execution_count": 24,
   "id": "2f97b967",
   "metadata": {},
   "outputs": [
    {
     "data": {
      "text/html": [
       "<div>\n",
       "<style scoped>\n",
       "    .dataframe tbody tr th:only-of-type {\n",
       "        vertical-align: middle;\n",
       "    }\n",
       "\n",
       "    .dataframe tbody tr th {\n",
       "        vertical-align: top;\n",
       "    }\n",
       "\n",
       "    .dataframe thead th {\n",
       "        text-align: right;\n",
       "    }\n",
       "</style>\n",
       "<table border=\"1\" class=\"dataframe\">\n",
       "  <thead>\n",
       "    <tr style=\"text-align: right;\">\n",
       "      <th></th>\n",
       "      <th>STATE</th>\n",
       "      <th>CONSTITUENCY</th>\n",
       "      <th>NAME</th>\n",
       "      <th>WINNER</th>\n",
       "      <th>PARTY</th>\n",
       "      <th>SYMBOL</th>\n",
       "      <th>GENDER</th>\n",
       "      <th>CRIMINAL CASES</th>\n",
       "      <th>AGE</th>\n",
       "      <th>CATEGORY</th>\n",
       "      <th>EDUCATION</th>\n",
       "      <th>ASSETS</th>\n",
       "      <th>LIABILITIES</th>\n",
       "      <th>GENERAL VOTES</th>\n",
       "      <th>POSTAL VOTES</th>\n",
       "      <th>TOTAL VOTES</th>\n",
       "      <th>OVER TOTAL ELECTORS IN CONSTITUENCY</th>\n",
       "      <th>OVER TOTAL VOTES POLLED IN CONSTITUENCY</th>\n",
       "      <th>TOTAL ELECTORS</th>\n",
       "    </tr>\n",
       "  </thead>\n",
       "  <tbody>\n",
       "    <tr>\n",
       "      <th>0</th>\n",
       "      <td>Telangana</td>\n",
       "      <td>ADILABAD</td>\n",
       "      <td>SOYAM BAPU RAO</td>\n",
       "      <td>1</td>\n",
       "      <td>BJP</td>\n",
       "      <td>Lotus</td>\n",
       "      <td>MALE</td>\n",
       "      <td>52.0</td>\n",
       "      <td>52.0</td>\n",
       "      <td>ST</td>\n",
       "      <td>12th Pass</td>\n",
       "      <td>Rs 30,99,414\\n ~ 30 Lacs+</td>\n",
       "      <td>Rs 2,31,450\\n ~ 2 Lacs+</td>\n",
       "      <td>376892</td>\n",
       "      <td>482</td>\n",
       "      <td>377374</td>\n",
       "      <td>25.330684</td>\n",
       "      <td>35.468248</td>\n",
       "      <td>1489790</td>\n",
       "    </tr>\n",
       "    <tr>\n",
       "      <th>169</th>\n",
       "      <td>Kerala</td>\n",
       "      <td>ATTINGAL</td>\n",
       "      <td>SOBHASURENDRAN</td>\n",
       "      <td>0</td>\n",
       "      <td>BJP</td>\n",
       "      <td>Lotus</td>\n",
       "      <td>FEMALE</td>\n",
       "      <td>40.0</td>\n",
       "      <td>49.0</td>\n",
       "      <td>GENERAL</td>\n",
       "      <td>Graduate</td>\n",
       "      <td>Rs 19,81,638\\n ~ 19 Lacs+</td>\n",
       "      <td>Rs 0\\n ~</td>\n",
       "      <td>246502</td>\n",
       "      <td>1579</td>\n",
       "      <td>248081</td>\n",
       "      <td>18.366711</td>\n",
       "      <td>24.658963</td>\n",
       "      <td>1350710</td>\n",
       "    </tr>\n",
       "    <tr>\n",
       "      <th>321</th>\n",
       "      <td>West Bengal</td>\n",
       "      <td>BARRACKPORE</td>\n",
       "      <td>ARJUN SINGH</td>\n",
       "      <td>1</td>\n",
       "      <td>BJP</td>\n",
       "      <td>Lotus</td>\n",
       "      <td>MALE</td>\n",
       "      <td>24.0</td>\n",
       "      <td>57.0</td>\n",
       "      <td>GENERAL</td>\n",
       "      <td>10th Pass</td>\n",
       "      <td>Rs 80,55,691\\n ~ 80 Lacs+</td>\n",
       "      <td>Rs 11,00,000\\n ~ 11 Lacs+</td>\n",
       "      <td>471490</td>\n",
       "      <td>1504</td>\n",
       "      <td>472994</td>\n",
       "      <td>32.928418</td>\n",
       "      <td>42.816550</td>\n",
       "      <td>1436431</td>\n",
       "    </tr>\n",
       "    <tr>\n",
       "      <th>327</th>\n",
       "      <td>West Bengal</td>\n",
       "      <td>BASIRHAT</td>\n",
       "      <td>Sayantan Basu</td>\n",
       "      <td>0</td>\n",
       "      <td>BJP</td>\n",
       "      <td>Lotus</td>\n",
       "      <td>MALE</td>\n",
       "      <td>14.0</td>\n",
       "      <td>42.0</td>\n",
       "      <td>GENERAL</td>\n",
       "      <td>Post Graduate</td>\n",
       "      <td>Rs 53,99,604\\n ~ 53 Lacs+</td>\n",
       "      <td>Rs 0\\n ~</td>\n",
       "      <td>431105</td>\n",
       "      <td>604</td>\n",
       "      <td>431709</td>\n",
       "      <td>25.722120</td>\n",
       "      <td>30.110080</td>\n",
       "      <td>1678357</td>\n",
       "    </tr>\n",
       "    <tr>\n",
       "      <th>562</th>\n",
       "      <td>West Bengal</td>\n",
       "      <td>COOCH BEHAR</td>\n",
       "      <td>NISITH PRAMANIK</td>\n",
       "      <td>1</td>\n",
       "      <td>BJP</td>\n",
       "      <td>Lotus</td>\n",
       "      <td>MALE</td>\n",
       "      <td>11.0</td>\n",
       "      <td>33.0</td>\n",
       "      <td>SC</td>\n",
       "      <td>8th Pass</td>\n",
       "      <td>Rs 96,29,810\\n ~ 96 Lacs+</td>\n",
       "      <td>Rs 0\\n ~</td>\n",
       "      <td>728634</td>\n",
       "      <td>2960</td>\n",
       "      <td>731594</td>\n",
       "      <td>40.325984</td>\n",
       "      <td>47.959351</td>\n",
       "      <td>1814200</td>\n",
       "    </tr>\n",
       "    <tr>\n",
       "      <th>702</th>\n",
       "      <td>Uttar Pradesh</td>\n",
       "      <td>ETAWAH</td>\n",
       "      <td>Dr RAM SHANKAR KATHERIA</td>\n",
       "      <td>0</td>\n",
       "      <td>BJP</td>\n",
       "      <td>Lotus</td>\n",
       "      <td>MALE</td>\n",
       "      <td>12.0</td>\n",
       "      <td>54.0</td>\n",
       "      <td>SC</td>\n",
       "      <td>Doctorate</td>\n",
       "      <td>Rs 1,51,54,538\\n ~ 1 Crore+</td>\n",
       "      <td>Rs 73,04,616\\n ~ 73 Lacs+</td>\n",
       "      <td>519674</td>\n",
       "      <td>2445</td>\n",
       "      <td>522119</td>\n",
       "      <td>29.699872</td>\n",
       "      <td>50.749749</td>\n",
       "      <td>1757984</td>\n",
       "    </tr>\n",
       "    <tr>\n",
       "      <th>775</th>\n",
       "      <td>West Bengal</td>\n",
       "      <td>GHATAL</td>\n",
       "      <td>BHARATI GHOSH</td>\n",
       "      <td>0</td>\n",
       "      <td>BJP</td>\n",
       "      <td>Lotus</td>\n",
       "      <td>FEMALE</td>\n",
       "      <td>11.0</td>\n",
       "      <td>56.0</td>\n",
       "      <td>GENERAL</td>\n",
       "      <td>Post Graduate</td>\n",
       "      <td>Rs 18,01,38,687\\n ~ 18 Crore+</td>\n",
       "      <td>Rs 73,39,380\\n ~ 73 Lacs+</td>\n",
       "      <td>608523</td>\n",
       "      <td>1463</td>\n",
       "      <td>609986</td>\n",
       "      <td>33.888073</td>\n",
       "      <td>40.956855</td>\n",
       "      <td>1800002</td>\n",
       "    </tr>\n",
       "    <tr>\n",
       "      <th>882</th>\n",
       "      <td>West Bengal</td>\n",
       "      <td>HOOGHLY</td>\n",
       "      <td>LOCKET CHATTERJEE</td>\n",
       "      <td>1</td>\n",
       "      <td>BJP</td>\n",
       "      <td>Lotus</td>\n",
       "      <td>FEMALE</td>\n",
       "      <td>14.0</td>\n",
       "      <td>45.0</td>\n",
       "      <td>GENERAL</td>\n",
       "      <td>Graduate</td>\n",
       "      <td>Rs 3,56,55,698\\n ~ 3 Crore+</td>\n",
       "      <td>Rs 0\\n ~</td>\n",
       "      <td>670031</td>\n",
       "      <td>1417</td>\n",
       "      <td>671448</td>\n",
       "      <td>38.007903</td>\n",
       "      <td>46.032658</td>\n",
       "      <td>1766601</td>\n",
       "    </tr>\n",
       "    <tr>\n",
       "      <th>1074</th>\n",
       "      <td>Uttar Pradesh</td>\n",
       "      <td>KANNAUJ</td>\n",
       "      <td>SUBRAT PATHAK</td>\n",
       "      <td>1</td>\n",
       "      <td>BJP</td>\n",
       "      <td>Lotus</td>\n",
       "      <td>MALE</td>\n",
       "      <td>11.0</td>\n",
       "      <td>39.0</td>\n",
       "      <td>GENERAL</td>\n",
       "      <td>Graduate</td>\n",
       "      <td>Rs 5,42,87,991\\n ~ 5 Crore+</td>\n",
       "      <td>Rs 2,89,93,930\\n ~ 2 Crore+</td>\n",
       "      <td>561286</td>\n",
       "      <td>1801</td>\n",
       "      <td>563087</td>\n",
       "      <td>30.034126</td>\n",
       "      <td>49.350956</td>\n",
       "      <td>1874824</td>\n",
       "    </tr>\n",
       "    <tr>\n",
       "      <th>1235</th>\n",
       "      <td>Kerala</td>\n",
       "      <td>KOZHIKODE</td>\n",
       "      <td>Adv.PRAKASH BABU</td>\n",
       "      <td>0</td>\n",
       "      <td>BJP</td>\n",
       "      <td>Lotus</td>\n",
       "      <td>MALE</td>\n",
       "      <td>22.0</td>\n",
       "      <td>39.0</td>\n",
       "      <td>GENERAL</td>\n",
       "      <td>Post Graduate</td>\n",
       "      <td>Rs 35,24,377\\n ~ 35 Lacs+</td>\n",
       "      <td>Rs 3,43,064\\n ~ 3 Lacs+</td>\n",
       "      <td>160352</td>\n",
       "      <td>864</td>\n",
       "      <td>161216</td>\n",
       "      <td>12.231644</td>\n",
       "      <td>14.970628</td>\n",
       "      <td>1318024</td>\n",
       "    </tr>\n",
       "    <tr>\n",
       "      <th>1415</th>\n",
       "      <td>West Bengal</td>\n",
       "      <td>MEDINIPUR</td>\n",
       "      <td>Dilip Ghosh</td>\n",
       "      <td>1</td>\n",
       "      <td>BJP</td>\n",
       "      <td>Lotus</td>\n",
       "      <td>MALE</td>\n",
       "      <td>14.0</td>\n",
       "      <td>54.0</td>\n",
       "      <td>GENERAL</td>\n",
       "      <td>10th Pass</td>\n",
       "      <td>Rs 45,36,462\\n ~ 45 Lacs+</td>\n",
       "      <td>Rs 0\\n ~</td>\n",
       "      <td>683285</td>\n",
       "      <td>2148</td>\n",
       "      <td>685433</td>\n",
       "      <td>40.940047</td>\n",
       "      <td>48.601205</td>\n",
       "      <td>1674236</td>\n",
       "    </tr>\n",
       "    <tr>\n",
       "      <th>1479</th>\n",
       "      <td>West Bengal</td>\n",
       "      <td>MURSHIDABAD</td>\n",
       "      <td>HUMAYUN KABIR</td>\n",
       "      <td>0</td>\n",
       "      <td>BJP</td>\n",
       "      <td>Lotus</td>\n",
       "      <td>MALE</td>\n",
       "      <td>10.0</td>\n",
       "      <td>56.0</td>\n",
       "      <td>GENERAL</td>\n",
       "      <td>12th Pass</td>\n",
       "      <td>Rs 3,63,08,374\\n ~ 3 Crore+</td>\n",
       "      <td>Rs 49,00,000\\n ~ 49 Lacs+</td>\n",
       "      <td>246745</td>\n",
       "      <td>1064</td>\n",
       "      <td>247809</td>\n",
       "      <td>14.364182</td>\n",
       "      <td>17.041010</td>\n",
       "      <td>1725187</td>\n",
       "    </tr>\n",
       "    <tr>\n",
       "      <th>1615</th>\n",
       "      <td>Kerala</td>\n",
       "      <td>PALAKKAD</td>\n",
       "      <td>KRISHNAKUMAR C</td>\n",
       "      <td>0</td>\n",
       "      <td>BJP</td>\n",
       "      <td>Lotus</td>\n",
       "      <td>MALE</td>\n",
       "      <td>10.0</td>\n",
       "      <td>48.0</td>\n",
       "      <td>GENERAL</td>\n",
       "      <td>Graduate</td>\n",
       "      <td>Rs 1,12,98,644\\n ~ 1 Crore+</td>\n",
       "      <td>Rs 14,48,919\\n ~ 14 Lacs+</td>\n",
       "      <td>217747</td>\n",
       "      <td>809</td>\n",
       "      <td>218556</td>\n",
       "      <td>16.519603</td>\n",
       "      <td>21.242251</td>\n",
       "      <td>1323010</td>\n",
       "    </tr>\n",
       "    <tr>\n",
       "      <th>1652</th>\n",
       "      <td>Kerala</td>\n",
       "      <td>PATHANAMTHITTA</td>\n",
       "      <td>K SURENDRAN</td>\n",
       "      <td>0</td>\n",
       "      <td>BJP</td>\n",
       "      <td>Lotus</td>\n",
       "      <td>MALE</td>\n",
       "      <td>240.0</td>\n",
       "      <td>49.0</td>\n",
       "      <td>GENERAL</td>\n",
       "      <td>Graduate</td>\n",
       "      <td>Rs 40,44,300\\n ~ 40 Lacs+</td>\n",
       "      <td>Rs 13,08,799\\n ~ 13 Lacs+</td>\n",
       "      <td>295627</td>\n",
       "      <td>1769</td>\n",
       "      <td>297396</td>\n",
       "      <td>21.507715</td>\n",
       "      <td>28.947087</td>\n",
       "      <td>1382741</td>\n",
       "    </tr>\n",
       "  </tbody>\n",
       "</table>\n",
       "</div>"
      ],
      "text/plain": [
       "              STATE    CONSTITUENCY                     NAME  WINNER PARTY  \\\n",
       "0         Telangana        ADILABAD           SOYAM BAPU RAO       1   BJP   \n",
       "169          Kerala        ATTINGAL           SOBHASURENDRAN       0   BJP   \n",
       "321     West Bengal     BARRACKPORE              ARJUN SINGH       1   BJP   \n",
       "327     West Bengal        BASIRHAT            Sayantan Basu       0   BJP   \n",
       "562     West Bengal     COOCH BEHAR          NISITH PRAMANIK       1   BJP   \n",
       "702   Uttar Pradesh          ETAWAH  Dr RAM SHANKAR KATHERIA       0   BJP   \n",
       "775     West Bengal          GHATAL            BHARATI GHOSH       0   BJP   \n",
       "882     West Bengal         HOOGHLY        LOCKET CHATTERJEE       1   BJP   \n",
       "1074  Uttar Pradesh         KANNAUJ            SUBRAT PATHAK       1   BJP   \n",
       "1235         Kerala       KOZHIKODE         Adv.PRAKASH BABU       0   BJP   \n",
       "1415    West Bengal       MEDINIPUR              Dilip Ghosh       1   BJP   \n",
       "1479    West Bengal     MURSHIDABAD            HUMAYUN KABIR       0   BJP   \n",
       "1615         Kerala        PALAKKAD           KRISHNAKUMAR C       0   BJP   \n",
       "1652         Kerala  PATHANAMTHITTA              K SURENDRAN       0   BJP   \n",
       "\n",
       "     SYMBOL  GENDER  CRIMINAL CASES   AGE CATEGORY      EDUCATION  \\\n",
       "0     Lotus    MALE            52.0  52.0       ST      12th Pass   \n",
       "169   Lotus  FEMALE            40.0  49.0  GENERAL       Graduate   \n",
       "321   Lotus    MALE            24.0  57.0  GENERAL      10th Pass   \n",
       "327   Lotus    MALE            14.0  42.0  GENERAL  Post Graduate   \n",
       "562   Lotus    MALE            11.0  33.0       SC       8th Pass   \n",
       "702   Lotus    MALE            12.0  54.0       SC      Doctorate   \n",
       "775   Lotus  FEMALE            11.0  56.0  GENERAL  Post Graduate   \n",
       "882   Lotus  FEMALE            14.0  45.0  GENERAL       Graduate   \n",
       "1074  Lotus    MALE            11.0  39.0  GENERAL       Graduate   \n",
       "1235  Lotus    MALE            22.0  39.0  GENERAL  Post Graduate   \n",
       "1415  Lotus    MALE            14.0  54.0  GENERAL      10th Pass   \n",
       "1479  Lotus    MALE            10.0  56.0  GENERAL      12th Pass   \n",
       "1615  Lotus    MALE            10.0  48.0  GENERAL       Graduate   \n",
       "1652  Lotus    MALE           240.0  49.0  GENERAL       Graduate   \n",
       "\n",
       "                             ASSETS                  LIABILITIES  \\\n",
       "0         Rs 30,99,414\\n ~ 30 Lacs+      Rs 2,31,450\\n ~ 2 Lacs+   \n",
       "169       Rs 19,81,638\\n ~ 19 Lacs+                     Rs 0\\n ~   \n",
       "321       Rs 80,55,691\\n ~ 80 Lacs+    Rs 11,00,000\\n ~ 11 Lacs+   \n",
       "327       Rs 53,99,604\\n ~ 53 Lacs+                     Rs 0\\n ~   \n",
       "562       Rs 96,29,810\\n ~ 96 Lacs+                     Rs 0\\n ~   \n",
       "702     Rs 1,51,54,538\\n ~ 1 Crore+    Rs 73,04,616\\n ~ 73 Lacs+   \n",
       "775   Rs 18,01,38,687\\n ~ 18 Crore+    Rs 73,39,380\\n ~ 73 Lacs+   \n",
       "882     Rs 3,56,55,698\\n ~ 3 Crore+                     Rs 0\\n ~   \n",
       "1074    Rs 5,42,87,991\\n ~ 5 Crore+  Rs 2,89,93,930\\n ~ 2 Crore+   \n",
       "1235      Rs 35,24,377\\n ~ 35 Lacs+      Rs 3,43,064\\n ~ 3 Lacs+   \n",
       "1415      Rs 45,36,462\\n ~ 45 Lacs+                     Rs 0\\n ~   \n",
       "1479    Rs 3,63,08,374\\n ~ 3 Crore+    Rs 49,00,000\\n ~ 49 Lacs+   \n",
       "1615    Rs 1,12,98,644\\n ~ 1 Crore+    Rs 14,48,919\\n ~ 14 Lacs+   \n",
       "1652      Rs 40,44,300\\n ~ 40 Lacs+    Rs 13,08,799\\n ~ 13 Lacs+   \n",
       "\n",
       "      GENERAL VOTES  POSTAL VOTES  TOTAL VOTES  \\\n",
       "0            376892           482       377374   \n",
       "169          246502          1579       248081   \n",
       "321          471490          1504       472994   \n",
       "327          431105           604       431709   \n",
       "562          728634          2960       731594   \n",
       "702          519674          2445       522119   \n",
       "775          608523          1463       609986   \n",
       "882          670031          1417       671448   \n",
       "1074         561286          1801       563087   \n",
       "1235         160352           864       161216   \n",
       "1415         683285          2148       685433   \n",
       "1479         246745          1064       247809   \n",
       "1615         217747           809       218556   \n",
       "1652         295627          1769       297396   \n",
       "\n",
       "      OVER TOTAL ELECTORS IN CONSTITUENCY  \\\n",
       "0                               25.330684   \n",
       "169                             18.366711   \n",
       "321                             32.928418   \n",
       "327                             25.722120   \n",
       "562                             40.325984   \n",
       "702                             29.699872   \n",
       "775                             33.888073   \n",
       "882                             38.007903   \n",
       "1074                            30.034126   \n",
       "1235                            12.231644   \n",
       "1415                            40.940047   \n",
       "1479                            14.364182   \n",
       "1615                            16.519603   \n",
       "1652                            21.507715   \n",
       "\n",
       "      OVER TOTAL VOTES POLLED IN CONSTITUENCY  TOTAL ELECTORS  \n",
       "0                                   35.468248         1489790  \n",
       "169                                 24.658963         1350710  \n",
       "321                                 42.816550         1436431  \n",
       "327                                 30.110080         1678357  \n",
       "562                                 47.959351         1814200  \n",
       "702                                 50.749749         1757984  \n",
       "775                                 40.956855         1800002  \n",
       "882                                 46.032658         1766601  \n",
       "1074                                49.350956         1874824  \n",
       "1235                                14.970628         1318024  \n",
       "1415                                48.601205         1674236  \n",
       "1479                                17.041010         1725187  \n",
       "1615                                21.242251         1323010  \n",
       "1652                                28.947087         1382741  "
      ]
     },
     "execution_count": 24,
     "metadata": {},
     "output_type": "execute_result"
    }
   ],
   "source": [
    "df[(df[\"PARTY\"]=='BJP')&(df[\"CRIMINAL CASES\"]>=10)]"
   ]
  },
  {
   "cell_type": "code",
   "execution_count": 66,
   "id": "74517e31",
   "metadata": {
    "scrolled": true
   },
   "outputs": [
    {
     "data": {
      "text/plain": [
       "2202    0.0\n",
       "Name: CRIMINAL CASES, dtype: float64"
      ]
     },
     "execution_count": 66,
     "metadata": {},
     "output_type": "execute_result"
    }
   ],
   "source": [
    "df[df[\"NAME\"]==\"NARENDRA MODI\"][\"CRIMINAL CASES\"]"
   ]
  },
  {
   "cell_type": "code",
   "execution_count": 196,
   "id": "8905b4c0",
   "metadata": {},
   "outputs": [
    {
     "data": {
      "text/plain": [
       "64      6.0\n",
       "2247    5.0\n",
       "Name: CRIMINAL CASES, dtype: float64"
      ]
     },
     "execution_count": 196,
     "metadata": {},
     "output_type": "execute_result"
    }
   ],
   "source": [
    "df[df[\"NAME\"]==\"Rahul Gandhi\"][\"CRIMINAL CASES\"]"
   ]
  },
  {
   "cell_type": "code",
   "execution_count": 70,
   "id": "64d41e32",
   "metadata": {},
   "outputs": [
    {
     "data": {
      "image/png": "[encoded data removed]",
      "text/plain": [
       "<Figure size 432x288 with 1 Axes>"
      ]
     },
     "metadata": {},
     "output_type": "display_data"
    }
   ],
   "source": [
    "df[\"SYMBOL\"].value_counts().head().plot.pie(startangle=45,autopct=\"%1.1f%%\")  ##Top 5 most used Symbols\n",
    "plt.show()"
   ]
  },
  {
   "cell_type": "code",
   "execution_count": 73,
   "id": "26d519b4",
   "metadata": {},
   "outputs": [
    {
     "data": {
      "image/png": "[encoded data removed]",
      "text/plain": [
       "<Figure size 432x288 with 1 Axes>"
      ]
     },
     "metadata": {
      "needs_background": "light"
     },
     "output_type": "display_data"
    }
   ],
   "source": [
    "(df[df[\"PARTY\"]=='BJP']['WINNER'].value_counts()).plot.bar()\n",
    "plt.grid()\n",
    "plt.xlabel(\"Winner\")\n",
    "plt.ylabel(\"No. of Candidates\")          ###Performance of BJP Candidates in this Election \n",
    "plt.show()\n"
   ]
  },
  {
   "cell_type": "code",
   "execution_count": 25,
   "id": "6995811d",
   "metadata": {},
   "outputs": [
    {
     "data": {
      "image/png": "[encoded data removed]",
      "text/plain": [
       "<Figure size 432x288 with 1 Axes>"
      ]
     },
     "metadata": {
      "needs_background": "light"
     },
     "output_type": "display_data"
    }
   ],
   "source": [
    "(df[\"GENDER\"].value_counts()).plot.bar(color='r')    ##Comparision wrt Gender\n",
    "plt.ylabel(\"Candidate\")\n",
    "plt.grid()\n",
    "plt.show()"
   ]
  },
  {
   "cell_type": "code",
   "execution_count": 75,
   "id": "2dd7b6f0",
   "metadata": {},
   "outputs": [
    {
     "data": {
      "text/plain": [
       "76"
      ]
     },
     "execution_count": 75,
     "metadata": {},
     "output_type": "execute_result"
    }
   ],
   "source": [
    "(df[(df[\"GENDER\"]=='FEMALE')&(df[\"WINNER\"]==1)]).value_counts().count()  ##Female candidate winner"
   ]
  },
  {
   "cell_type": "code",
   "execution_count": 76,
   "id": "0652a85b",
   "metadata": {},
   "outputs": [
    {
     "data": {
      "text/plain": [
       "8"
      ]
     },
     "execution_count": 76,
     "metadata": {},
     "output_type": "execute_result"
    }
   ],
   "source": [
    "(df[(df[\"GENDER\"]=='FEMALE')&(df[\"WINNER\"]==1)&(df[\"STATE\"]==\"Maharashtra\")]).value_counts().count() ##Female candidate winners in Maharashtra"
   ]
  },
  {
   "cell_type": "code",
   "execution_count": 237,
   "id": "b9a5ebc2",
   "metadata": {},
   "outputs": [
    {
     "data": {
      "text/plain": [
       "12.784935579781962"
      ]
     },
     "execution_count": 237,
     "metadata": {},
     "output_type": "execute_result"
    }
   ],
   "source": [
    "(sum(df[\"GENDER\"]=='FEMALE')/sum(df[\"GENDER\"].value_counts())*100)  ##Female Candidate percentage in this election"
   ]
  },
  {
   "cell_type": "code",
   "execution_count": 77,
   "id": "92699005",
   "metadata": {},
   "outputs": [
    {
     "data": {
      "text/plain": [
       "STATE                      GENDER\n",
       "Andaman & Nicobar Islands  MALE        5\n",
       "Andhra Pradesh             MALE       90\n",
       "                           FEMALE     11\n",
       "Arunachal Pradesh          MALE        9\n",
       "                           FEMALE      1\n",
       "                                    ... \n",
       "Uttar Pradesh              FEMALE     34\n",
       "Uttarakhand                MALE       13\n",
       "                           FEMALE      1\n",
       "West Bengal                MALE      136\n",
       "                           FEMALE     37\n",
       "Name: GENDER, Length: 63, dtype: int64"
      ]
     },
     "execution_count": 77,
     "metadata": {},
     "output_type": "execute_result"
    }
   ],
   "source": [
    "df.groupby(\"STATE\").GENDER.value_counts()  ##Gender Comparision wrt state"
   ]
  },
  {
   "cell_type": "code",
   "execution_count": 311,
   "id": "15f98cd8",
   "metadata": {},
   "outputs": [
    {
     "data": {
      "text/plain": [
       "MALE      217\n",
       "FEMALE     34\n",
       "Name: GENDER, dtype: int64"
      ]
     },
     "execution_count": 311,
     "metadata": {},
     "output_type": "execute_result"
    }
   ],
   "source": [
    "df[df[\"STATE\"]==\"Uttar Pradesh\"][\"GENDER\"].value_counts()  ##Gender difference in UP"
   ]
  },
  {
   "cell_type": "code",
   "execution_count": 3,
   "id": "8d494bf0",
   "metadata": {},
   "outputs": [
    {
     "data": {
      "image/png": "[encoded data removed]",
      "text/plain": [
       "<Figure size 1152x720 with 4 Axes>"
      ]
     },
     "metadata": {},
     "output_type": "display_data"
    }
   ],
   "source": [
    "fig,axes = plt.subplots(2,2, figsize=(16,10))\n",
    "df[df[\"STATE\"]==\"Uttar Pradesh\"][\"GENDER\"].value_counts().plot.pie(autopct='%1.1f%%',ax=axes[0,0],label=\"Uttar Pradesh\")\n",
    "\n",
    "df[df[\"STATE\"]==\"Madhya Pradesh\"][\"GENDER\"].value_counts().plot.pie(autopct='%1.1f%%',ax=axes[0,1],label=\"Madhya Pradesh\")\n",
    "\n",
    "df[df[\"STATE\"]==\"West Bengal\"][\"GENDER\"].value_counts().plot.pie(autopct='%1.1f%%',ax=axes[1,0],label=\"West Bengal\")\n",
    "\n",
    "df[df[\"STATE\"]==\"Punjab\"][\"GENDER\"].value_counts().plot.pie(autopct='%1.1f%%',ax=axes[1,1],label=\"Punjab\")\n",
    "\n",
    "plt.show()"
   ]
  },
  {
   "cell_type": "markdown",
   "id": "155da324",
   "metadata": {},
   "source": [
    "# Conclusion"
   ]
  },
  {
   "cell_type": "markdown",
   "id": "5a366388",
   "metadata": {},
   "source": [
    "1. BJP won the elections with majority seats\n",
    "2. The BJP candidates have participated more than the other parties in Lok Sabha 2019.\n",
    "3. The number of female candidates is very less than the number of male candidates.\n",
    "4. The maximum no of criminal cases done by a single person is 240 and he is from Kerala."
   ]
  }
 ],
 "metadata": {
  "kernelspec": {
   "display_name": "Python 3 (ipykernel)",
   "language": "python",
   "name": "python3"
  },
  "language_info": {
   "codemirror_mode": {
    "name": "ipython",
    "version": 3
   },
   "file_extension": ".py",
   "mimetype": "text/x-python",
   "name": "python",
   "nbconvert_exporter": "python",
   "pygments_lexer": "ipython3",
   "version": "3.9.9"
  }
 },
 "nbformat": 4,
 "nbformat_minor": 5
}
